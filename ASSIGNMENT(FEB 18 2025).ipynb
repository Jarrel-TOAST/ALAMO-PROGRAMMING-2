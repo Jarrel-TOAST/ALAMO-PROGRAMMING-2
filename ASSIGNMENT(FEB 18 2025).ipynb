{
 "cells": [
  {
   "cell_type": "code",
   "execution_count": 14,
   "metadata": {},
   "outputs": [
    {
     "name": "stdout",
     "output_type": "stream",
     "text": [
      "Monday = 123.3\n",
      "Tuesday = 123.0\n",
      "Wednesday = 123.123\n",
      "Thursday = 1231232.0\n",
      "Friday = 123213.0\n",
      "\n",
      "The total sum is a float\n",
      "Grand total: 1354814.423\n"
     ]
    }
   ],
   "source": [
    "def sum_numeric_function():\n",
    "    dictionaryD = {\"Monday\":first,\n",
    "                   \"Tuesday\":second,\n",
    "                   \"Wednesday\":third,\n",
    "                   \"Thursday\": fourth,\n",
    "                   \"Friday\":fifth}\n",
    "    for x, y in dictionaryD.items():\n",
    "        print(f\"{x} = {y}\")\n",
    "        sum = dictionaryD[\"Monday\"] + dictionaryD[\"Tuesday\"] + dictionaryD[\"Wednesday\"] + dictionaryD[\"Thursday\"] + dictionaryD[\"Friday\"]\n",
    "    if sum % 1 == 0:\n",
    "        print(\"\\nThe total sum is an int\")\n",
    "        print(f\"Grand total: {sum}\")\n",
    "    else: \n",
    "        print(\"\\nThe total sum is a float\")\n",
    "        print(f\"Grand total: {sum}\")\n",
    "\n",
    "\n",
    "first = float(input(\"Enter the first value\"))\n",
    "second = float(input(\"Enter the second value\"))\n",
    "third = float(input(\"Enter the third value\"))\n",
    "fourth = float(input(\"Enter the fourth value\"))\n",
    "fifth = float(input(\"Enter the fifth value\"))\n",
    "sum_numeric_function()\n",
    "\n",
    "\n",
    "\n",
    "    \n",
    "\n",
    "\n",
    "\n",
    "\n",
    "\n",
    "\n",
    "\n",
    "\n",
    "\n"
   ]
  }
 ],
 "metadata": {
  "kernelspec": {
   "display_name": "Python 3",
   "language": "python",
   "name": "python3"
  },
  "language_info": {
   "codemirror_mode": {
    "name": "ipython",
    "version": 3
   },
   "file_extension": ".py",
   "mimetype": "text/x-python",
   "name": "python",
   "nbconvert_exporter": "python",
   "pygments_lexer": "ipython3",
   "version": "3.13.2"
  }
 },
 "nbformat": 4,
 "nbformat_minor": 2
}
